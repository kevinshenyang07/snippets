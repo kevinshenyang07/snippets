{
 "cells": [
  {
   "cell_type": "code",
   "execution_count": 1,
   "metadata": {
    "collapsed": true
   },
   "outputs": [],
   "source": [
    "import findspark\n",
    "findspark.init()"
   ]
  },
  {
   "cell_type": "code",
   "execution_count": 2,
   "metadata": {
    "collapsed": false
   },
   "outputs": [],
   "source": [
    "from pyspark import SparkContext, SparkConf\n",
    "sc = SparkContext()"
   ]
  },
  {
   "cell_type": "code",
   "execution_count": 3,
   "metadata": {
    "collapsed": false
   },
   "outputs": [
    {
     "data": {
      "text/plain": [
       "[{u'auth': u'15a63c4:e66189ba',\n",
       "  u'createdAt': u'2013-05-12T00:00:01-08:00',\n",
       "  u'payload': {u'itemID': u'15607', u'marker': 240},\n",
       "  u'refId': u'47c7e2f6',\n",
       "  u'sessionID': u'82ada851-0b3c-4e9d-b8cf-0f0a2ebed278',\n",
       "  u'type': u'Play',\n",
       "  u'user': 22700996}]"
      ]
     },
     "execution_count": 3,
     "metadata": {},
     "output_type": "execute_result"
    }
   ],
   "source": [
    "import re\n",
    "import json\n",
    "import dateutil.parser\n",
    "\n",
    "# for this part, I'll skip the gory part of cleaning the log\n",
    "# and focus on the logic\n",
    "P1 = re.compile(r'\"\" ?:')\n",
    "P2 = re.compile(r'created_at|craetedAt')\n",
    "P3 = re.compile(r'session_id')\n",
    "P4 = re.compile(r'item_id|itemId')\n",
    "P5 = re.compile(r'payload')\n",
    "\n",
    "def clean_logs(log):\n",
    "    log = P1.sub('\\\":', log)\n",
    "    log = P2.sub('createdAt', log)\n",
    "    log = P3.sub('sessionID', log)\n",
    "    log = P4.sub('itemID', log)\n",
    "    logj = json.loads(log)\n",
    "    try:\n",
    "        logj.pop('userAgent')\n",
    "        logj.pop('user_agent')\n",
    "    except KeyError:\n",
    "        pass\n",
    "    return logj\n",
    "    \n",
    "logs_raw = sc.textFile('/Users/apple/Downloads/datasets/web.log')\n",
    "logs_clean = logs_raw.filter(lambda log: P5.search(log)).map(clean_logs).filter(lambda log: len(log['payload'])!=0)\n",
    "logs_clean.cache()\n",
    "logs_clean.take(1)"
   ]
  },
  {
   "cell_type": "code",
   "execution_count": 5,
   "metadata": {
    "collapsed": false
   },
   "outputs": [
    {
     "data": {
      "text/plain": [
       "u'pyspark-shell'"
      ]
     },
     "execution_count": 5,
     "metadata": {},
     "output_type": "execute_result"
    }
   ],
   "source": [
    "sc.appName"
   ]
  },
  {
   "cell_type": "code",
   "execution_count": 4,
   "metadata": {
    "collapsed": false
   },
   "outputs": [
    {
     "data": {
      "text/plain": [
       "[(u'Play', 543129),\n",
       " (u'Hover', 19617),\n",
       " (u'Stop', 7178),\n",
       " (u'Home', 5425),\n",
       " (u'AddToQueue', 5091),\n",
       " (u'Pause', 4424),\n",
       " (u'Advance', 3062),\n",
       " (u'Resume', 1774),\n",
       " (u'Recommendations', 1344),\n",
       " (u'Search', 1328),\n",
       " (u'Rate', 652),\n",
       " (u'ItemPage', 274),\n",
       " (u'WriteReview', 274),\n",
       " (u'Account', 177),\n",
       " (u'Position', 164)]"
      ]
     },
     "execution_count": 4,
     "metadata": {},
     "output_type": "execute_result"
    }
   ],
   "source": [
    "types = logs_clean.map(lambda log: (log['type'], 1))\n",
    "types_count = types.reduceByKey(lambda x,y: x+y)\n",
    "types_count.takeOrdered(30, key=lambda x: -x[1])"
   ]
  },
  {
   "cell_type": "code",
   "execution_count": 5,
   "metadata": {
    "collapsed": false,
    "scrolled": true
   },
   "outputs": [
    {
     "data": {
      "text/plain": [
       "{u'itemID',\n",
       " u'length',\n",
       " u'marker',\n",
       " u'new',\n",
       " u'old',\n",
       " u'popular',\n",
       " u'rating',\n",
       " u'recent',\n",
       " u'recommended',\n",
       " u'recs',\n",
       " u'results',\n",
       " u'subAction'}"
      ]
     },
     "execution_count": 5,
     "metadata": {},
     "output_type": "execute_result"
    }
   ],
   "source": [
    "payloads = logs_clean.map(lambda log: set(log.get('payload', None))).reduce(lambda x,y: x.union(y))\n",
    "payloads"
   ]
  },
  {
   "cell_type": "code",
   "execution_count": 6,
   "metadata": {
    "collapsed": false
   },
   "outputs": [
    {
     "data": {
      "text/plain": [
       "2195"
      ]
     },
     "execution_count": 6,
     "metadata": {},
     "output_type": "execute_result"
    }
   ],
   "source": [
    "user_num = logs_clean.map(lambda log: log['user']).distinct().count()\n",
    "user_num"
   ]
  },
  {
   "cell_type": "code",
   "execution_count": 7,
   "metadata": {
    "collapsed": false
   },
   "outputs": [
    {
     "data": {
      "text/plain": [
       "[{u'auth': u'15a63c4:e66189ba',\n",
       "  u'createdAt': u'2013-05-12T00:00:01-08:00',\n",
       "  u'payload': {u'Play': u'15607', u'marker': 240},\n",
       "  u'refId': u'47c7e2f6',\n",
       "  u'sessionID': u'82ada851-0b3c-4e9d-b8cf-0f0a2ebed278',\n",
       "  u'type': u'Play',\n",
       "  u'user': 22700996}]"
      ]
     },
     "execution_count": 7,
     "metadata": {},
     "output_type": "execute_result"
    }
   ],
   "source": [
    "def map_types(log):\n",
    "    if log['payload'].get('itemID'):\n",
    "        action =  log['type']\n",
    "        actions = ['Play', 'Hover', 'Stop', 'AddToQueue', 'Pause', 'Advance', 'Resume', 'ItemPage', 'Position']\n",
    "        if action in actions:\n",
    "            log['payload'][action] = log['payload']['itemID']\n",
    "            del log['payload']['itemID']\n",
    "        if action == 'Rate':\n",
    "            log['payload'] = {'Rate': (log['payload']['itemID'], log['payload']['rating'])}\n",
    "        if action == 'WriteReview':\n",
    "            v1, v2, v3 = log['payload'].get('itemID'),log['payload'].get('rating'), log['payload'].get('length') \n",
    "            log['payload'] = {'WriteReview': (v1, v2, v3)}\n",
    "    return log\n",
    "\n",
    "sessions_pre = logs_clean.map(map_types)\n",
    "sessions_pre.cache()\n",
    "sessions_pre.take(1)"
   ]
  },
  {
   "cell_type": "code",
   "execution_count": 8,
   "metadata": {
    "collapsed": false
   },
   "outputs": [
    {
     "data": {
      "text/plain": [
       "[((u'3c6472fd-7ddd-415f-b42a-626d92e6214e', 26513925),\n",
       "  {u'Pause': {u'28379'},\n",
       "   u'Play': {u'28379'},\n",
       "   u'Position': {u'28379'},\n",
       "   u'Resume': {u'28379'},\n",
       "   u'Stop': {u'28379'},\n",
       "   u'marker': [0, 4945],\n",
       "   u'popular': [u'33172', u'7097', u'38420', u'32212', u'28379'],\n",
       "   u'recent': [u'2485e9'],\n",
       "   u'recommended': [u'6282', u'22571', u'8276', u'32065', u'2528']})]"
      ]
     },
     "execution_count": 8,
     "metadata": {},
     "output_type": "execute_result"
    }
   ],
   "source": [
    "def red_session(x, y):\n",
    "    z = {}\n",
    "    for k in set(x) | set(y):\n",
    "        xval = x.get(k, [])\n",
    "        yval = y.get(k, [])\n",
    "        if not isinstance(xval, list):\n",
    "            xval = [xval]\n",
    "        if not isinstance(yval, list):\n",
    "            yval = [yval]\n",
    "        z[k] = xval + yval\n",
    "    return z\n",
    "\n",
    "def map_value(x):\n",
    "    actions = ['Play', 'Hover', 'Stop', 'AddToQueue', 'Pause', 'Advance', 'Resume', 'ItemPage', 'Position']\n",
    "    for action in actions:\n",
    "        if x.get(action):\n",
    "            x[action] = set(x[action])\n",
    "    return x\n",
    "   \n",
    "def map_marker(x):\n",
    "    if x[1].get('marker'):\n",
    "        low = min(x[1]['marker'])\n",
    "        high = max(x[1]['marker'])\n",
    "        x[1]['marker'] = [low, high]\n",
    "    return x\n",
    "\n",
    "sessions = sessions_pre.map(lambda log: ((log['sessionID'],log['user']),log['payload']))\\\n",
    "                       .filter(lambda (k,v): isinstance(v, dict))\\\n",
    "                       .reduceByKey(red_session)\\\n",
    "                       .mapValues(map_value)\\\n",
    "                       .map(map_marker)\n",
    "sessions.cache()\n",
    "sessions.take(1)"
   ]
  },
  {
   "cell_type": "code",
   "execution_count": 9,
   "metadata": {
    "collapsed": false,
    "scrolled": true
   },
   "outputs": [
    {
     "data": {
      "text/plain": [
       "[((u'83c28331-2499-43c8-bbe8-f6a7271434dc', 93515290),\n",
       "  {u'AddToQueue': {u'12458', u'18872', u'30973'},\n",
       "   u'Hover': {u'12458', u'18872', u'30973', u'4111'},\n",
       "   u'Pause': {u'35399'},\n",
       "   u'Play': {u'35399'},\n",
       "   u'Stop': {u'35399'},\n",
       "   u'marker': [0, 6454],\n",
       "   u'new': [u'kid'],\n",
       "   u'old': [u'adult'],\n",
       "   u'popular': [u'37830',\n",
       "    u'10759',\n",
       "    u'14687',\n",
       "    u'14696',\n",
       "    u'4111',\n",
       "    u'19550',\n",
       "    u'2815',\n",
       "    u'7130',\n",
       "    u'22487',\n",
       "    u'32353'],\n",
       "   u'recent': [u'30243'],\n",
       "   u'recommended': [u'1226',\n",
       "    u'9740',\n",
       "    u'18872',\n",
       "    u'9008e111',\n",
       "    u'12458',\n",
       "    u'15630',\n",
       "    u'13069',\n",
       "    u'21710',\n",
       "    u'4004',\n",
       "    u'30973'],\n",
       "   u'results': [u'36633e111',\n",
       "    u'31390',\n",
       "    u'12319',\n",
       "    u'4970',\n",
       "    u'29473e23',\n",
       "    u'9379',\n",
       "    u'8235',\n",
       "    u'14360',\n",
       "    u'20059e1',\n",
       "    u'32513',\n",
       "    u'15315',\n",
       "    u'14140',\n",
       "    u'38278',\n",
       "    u'22134e9',\n",
       "    u'33254',\n",
       "    u'10901',\n",
       "    u'35399',\n",
       "    u'32568',\n",
       "    u'16659',\n",
       "    u'32199'],\n",
       "   u'subAction': [u'parentalControls']})]"
      ]
     },
     "execution_count": 9,
     "metadata": {},
     "output_type": "execute_result"
    }
   ],
   "source": [
    "sessions_labeled = sessions.filter(lambda s: s[1].get('new', None))\n",
    "sessions_labeled.cache()\n",
    "sessions_labeled.take(1)"
   ]
  },
  {
   "cell_type": "code",
   "execution_count": 10,
   "metadata": {
    "collapsed": false
   },
   "outputs": [
    {
     "data": {
      "text/plain": [
       "[((u'3c6472fd-7ddd-415f-b42a-626d92e6214e', 26513925),\n",
       "  {u'Pause': {u'28379'},\n",
       "   u'Play': {u'28379'},\n",
       "   u'Position': {u'28379'},\n",
       "   u'Resume': {u'28379'},\n",
       "   u'Stop': {u'28379'},\n",
       "   u'marker': [0, 4945],\n",
       "   u'popular': [u'33172', u'7097', u'38420', u'32212', u'28379'],\n",
       "   u'recent': [u'2485e9'],\n",
       "   u'recommended': [u'6282', u'22571', u'8276', u'32065', u'2528']})]"
      ]
     },
     "execution_count": 10,
     "metadata": {},
     "output_type": "execute_result"
    }
   ],
   "source": [
    "sessions_unlabeled = sessions.filter(lambda s: not s[1].get('new', None))\n",
    "sessions_unlabeled.cache()\n",
    "sessions_unlabeled.take(1)"
   ]
  },
  {
   "cell_type": "code",
   "execution_count": 11,
   "metadata": {
    "collapsed": false
   },
   "outputs": [
    {
     "data": {
      "text/plain": [
       "1447"
      ]
     },
     "execution_count": 11,
     "metadata": {},
     "output_type": "execute_result"
    }
   ],
   "source": [
    "items = sessions.map(lambda s: set(s[1].get('recommended', []))).reduce(lambda x,y: x.union(y))\n",
    "len(items)"
   ]
  },
  {
   "cell_type": "code",
   "execution_count": 12,
   "metadata": {
    "collapsed": false
   },
   "outputs": [
    {
     "data": {
      "text/plain": [
       "2195"
      ]
     },
     "execution_count": 12,
     "metadata": {},
     "output_type": "execute_result"
    }
   ],
   "source": [
    "users = sessions.map(lambda s: set([s[0][1]])).reduce(lambda x,y: x.union(y))\n",
    "len(users)"
   ]
  },
  {
   "cell_type": "code",
   "execution_count": 13,
   "metadata": {
    "collapsed": false
   },
   "outputs": [
    {
     "data": {
      "text/plain": [
       "[(u'parentalControls', 134),\n",
       " (u'updatePaymentInfo', 26),\n",
       " (u'updatePassword', 17)]"
      ]
     },
     "execution_count": 13,
     "metadata": {},
     "output_type": "execute_result"
    }
   ],
   "source": [
    "subActs = sessions.filter(lambda s: s[1].get('subAction', None))\\\n",
    "                  .map(lambda s: (s[1]['subAction'][0], 1))\\\n",
    "                  .reduceByKey(lambda x,y: x+y)\n",
    "subActs.takeOrdered(10, key=lambda x: -x[1])"
   ]
  },
  {
   "cell_type": "code",
   "execution_count": 14,
   "metadata": {
    "collapsed": false
   },
   "outputs": [
    {
     "name": "stdout",
     "output_type": "stream",
     "text": [
      "[0, 4945]\n",
      "2013-05-09 02:02:29+00:00 2013-05-09 03:26:09+00:00\n"
     ]
    }
   ],
   "source": [
    "s = sessions.take(1)\n",
    "s1id, s1usr = s[0][0]\n",
    "s1mk = s[0][1]['marker']\n",
    "s1 = logs_clean.filter(lambda log: log['sessionID']==s1id and log['user']==s1usr)\n",
    "\n",
    "t1 = s1.map(lambda s: s['createdAt'])\\\n",
    "       .map(lambda t: dateutil.parser.parse(t))\n",
    "start = t1.min()\n",
    "end = t1.max()\n",
    "\n",
    "print s1mk\n",
    "print start, end\n",
    "# turns out the marker's time and session interval are of approximately the same length"
   ]
  },
  {
   "cell_type": "code",
   "execution_count": 15,
   "metadata": {
    "collapsed": false
   },
   "outputs": [
    {
     "data": {
      "text/plain": [
       "[((u'3c6472fd-7ddd-415f-b42a-626d92e6214e', 26513925),\n",
       "  {'AddToQueue': 0,\n",
       "   'Advance': 0,\n",
       "   'Hover': 0,\n",
       "   'Itempage': 0,\n",
       "   'Pause': 1,\n",
       "   'Play': 1,\n",
       "   'Position': 1,\n",
       "   'Rate': 0,\n",
       "   'Resume': 1,\n",
       "   'Stop': 1,\n",
       "   'WriteReview': 0,\n",
       "   'marker': 4945,\n",
       "   'play_popular': 1,\n",
       "   'play_recommended': 0,\n",
       "   'play_search': 0,\n",
       "   'recommended': 5,\n",
       "   'results': 0,\n",
       "   'subAction': 0})]"
      ]
     },
     "execution_count": 15,
     "metadata": {},
     "output_type": "execute_result"
    }
   ],
   "source": [
    "def map_features(x):\n",
    "    res = {\n",
    "        'Play':0, 'Hover':0, 'Stop':0, 'AddToQueue':0, 'Pause':0, 'Advance':0, 'Resume':0, 'Itempage':0, 'Position':0,\\\n",
    "        'marker':0, 'Rate':0, 'results':0, 'recommended':0, 'WriteReview':0, 'subAction':0,\\\n",
    "        'play_recommended':0, 'play_search':0, 'play_popular':0\n",
    "    }\n",
    "    for key in x[1].keys():\n",
    "        if key == 'marker':\n",
    "            res[key] = x[1][key][1]-x[1][key][0]\n",
    "        elif key == 'subAction' and x[1][key] == 'parentalControls':\n",
    "            res[key] = 1\n",
    "        elif key == 'Play':\n",
    "            played = x[1][key]\n",
    "            res[key] = len(played)\n",
    "            for p in played:\n",
    "                if x[1].get('recommended') and p in x[1]['recommended']:\n",
    "                    res['play_recommended'] += 1\n",
    "                if x[1].get('results') and p in x[1]['results']:\n",
    "                    res['play_search'] += 1\n",
    "                if x[1].get('popular') and p in x[1]['popular']:\n",
    "                    res['play_popular'] += 1\n",
    "        elif key in res.keys():\n",
    "            res[key] = len(x[1][key])\n",
    "    return (x[0], res)\n",
    "    \n",
    "sessions4cluster = sessions.map(map_features)\n",
    "sessions4cluster.cache()\n",
    "sessions4cluster.take(1)"
   ]
  },
  {
   "cell_type": "code",
   "execution_count": 17,
   "metadata": {
    "collapsed": false
   },
   "outputs": [
    {
     "data": {
      "text/plain": [
       "[[0.0,\n",
       "  0.0,\n",
       "  0.0,\n",
       "  0,\n",
       "  0.014282799726001058,\n",
       "  0.0038016218897750985,\n",
       "  0.07559289460184544,\n",
       "  0.0,\n",
       "  0.022721405353294154,\n",
       "  0.005969963069325685,\n",
       "  0.0,\n",
       "  0.014390258637276391,\n",
       "  0.0255488065153798,\n",
       "  0.0,\n",
       "  0.0,\n",
       "  0.013170441819759387,\n",
       "  0.0,\n",
       "  0.0]]"
      ]
     },
     "execution_count": 17,
     "metadata": {},
     "output_type": "execute_result"
    }
   ],
   "source": [
    "from math import sqrt\n",
    "import numpy as np\n",
    "\n",
    "vec4cluster = sessions4cluster.map(lambda s: sorted(s[1].iteritems()))\\\n",
    "                              .map(lambda s: [v for (k,v) in s])\n",
    "\n",
    "L2NormSquares = vec4cluster.map(lambda vec: [x**2 for x in vec]).reduce(lambda vec1,vec2: np.add(vec1, vec2))\n",
    "\n",
    "def normalize(x):\n",
    "    for i in range(len(x)):\n",
    "        if L2NormSquares[i] != 0:\n",
    "            x[i] /= float(sqrt(L2NormSquares[i]))\n",
    "    return x\n",
    "\n",
    "vecs = vec4cluster.map(normalize)\n",
    "vecs.take(1)"
   ]
  },
  {
   "cell_type": "code",
   "execution_count": 18,
   "metadata": {
    "collapsed": true
   },
   "outputs": [],
   "source": [
    "n = vec4cluster.count()\n",
    "means = vec4cluster.map(lambda vec: [x/float(n) for x in vec]).reduce(lambda v1,v2: np.add(v1, v2))\n",
    "variances = vec4cluster.map(lambda vec: np.subtract(vec, means))\\\n",
    "                       .map(lambda vec: [x**2/float(n) for x in vec])\\\n",
    "                       .reduce(lambda v1,v2: np.add(v1, v2))"
   ]
  },
  {
   "cell_type": "code",
   "execution_count": 19,
   "metadata": {
    "collapsed": false
   },
   "outputs": [
    {
     "ename": "NameError",
     "evalue": "name 'KMeans' is not defined",
     "output_type": "error",
     "traceback": [
      "\u001b[0;31m---------------------------------------------------------------------------\u001b[0m",
      "\u001b[0;31mNameError\u001b[0m                                 Traceback (most recent call last)",
      "\u001b[0;32m<ipython-input-19-e8f11b43fc96>\u001b[0m in \u001b[0;36m<module>\u001b[0;34m()\u001b[0m\n\u001b[1;32m      8\u001b[0m \u001b[0;34m\u001b[0m\u001b[0m\n\u001b[1;32m      9\u001b[0m \u001b[0mvecs3\u001b[0m \u001b[0;34m=\u001b[0m \u001b[0mvec4cluster\u001b[0m\u001b[0;34m.\u001b[0m\u001b[0mmap\u001b[0m\u001b[0;34m(\u001b[0m\u001b[0;32mlambda\u001b[0m \u001b[0mvec\u001b[0m\u001b[0;34m:\u001b[0m \u001b[0mstandardize\u001b[0m\u001b[0;34m(\u001b[0m\u001b[0mvec\u001b[0m\u001b[0;34m,\u001b[0m \u001b[0mmeans\u001b[0m\u001b[0;34m,\u001b[0m \u001b[0mstdevs\u001b[0m\u001b[0;34m)\u001b[0m\u001b[0;34m)\u001b[0m\u001b[0;34m\u001b[0m\u001b[0m\n\u001b[0;32m---> 10\u001b[0;31m \u001b[0mclusters3\u001b[0m \u001b[0;34m=\u001b[0m \u001b[0mKMeans\u001b[0m\u001b[0;34m.\u001b[0m\u001b[0mtrain\u001b[0m\u001b[0;34m(\u001b[0m\u001b[0mvecs3\u001b[0m\u001b[0;34m,\u001b[0m \u001b[0;36m5\u001b[0m\u001b[0;34m,\u001b[0m \u001b[0mmaxIterations\u001b[0m\u001b[0;34m=\u001b[0m\u001b[0;36m10\u001b[0m\u001b[0;34m,\u001b[0m \u001b[0mruns\u001b[0m\u001b[0;34m=\u001b[0m\u001b[0;36m10\u001b[0m\u001b[0;34m)\u001b[0m\u001b[0;34m\u001b[0m\u001b[0m\n\u001b[0m\u001b[1;32m     11\u001b[0m \u001b[0mcost3\u001b[0m \u001b[0;34m=\u001b[0m \u001b[0mclusters3\u001b[0m\u001b[0;34m.\u001b[0m\u001b[0mcomputeCost\u001b[0m\u001b[0;34m(\u001b[0m\u001b[0mvecs3\u001b[0m\u001b[0;34m)\u001b[0m\u001b[0;34m\u001b[0m\u001b[0m\n\u001b[1;32m     12\u001b[0m \u001b[0;32mprint\u001b[0m \u001b[0mcost3\u001b[0m\u001b[0;34m\u001b[0m\u001b[0m\n",
      "\u001b[0;31mNameError\u001b[0m: name 'KMeans' is not defined"
     ]
    }
   ],
   "source": [
    "def standardize(vec, means, variances):\n",
    "    res = np.zeros(len(vec))\n",
    "    for i in range(len(vec)):\n",
    "        if stdevs[i] != 0:\n",
    "            res[i] = (vec[i]-means[i])/sqrt(variances[i])\n",
    "    return res\n",
    "        \n",
    "\n",
    "vecs3 = vec4cluster.map(lambda vec: standardize(vec, means, stdevs))\n",
    "clusters3 = KMeans.train(vecs3, 5, maxIterations=10, runs=10)\n",
    "cost3 = clusters3.computeCost(vecs3)\n",
    "print cost3"
   ]
  },
  {
   "cell_type": "code",
   "execution_count": 23,
   "metadata": {
    "collapsed": false
   },
   "outputs": [
    {
     "data": {
      "text/plain": [
       "629"
      ]
     },
     "execution_count": 23,
     "metadata": {},
     "output_type": "execute_result"
    }
   ],
   "source": [
    "sessions_rated = sessions4cluster.filter(lambda s: s[1]['Rate'] != 0)\n",
    "sessions_rated.count()"
   ]
  },
  {
   "cell_type": "code",
   "execution_count": 24,
   "metadata": {
    "collapsed": false
   },
   "outputs": [
    {
     "data": {
      "text/plain": [
       "[('16323703', u'20556', 4),\n",
       " ('38639248', u'17128', 2),\n",
       " ('34053991', u'26716', 4),\n",
       " ('53470359', u'16875', 4),\n",
       " ('12379735', u'13069', 5)]"
      ]
     },
     "execution_count": 24,
     "metadata": {},
     "output_type": "execute_result"
    }
   ],
   "source": [
    "training_explicit = sessions.filter(lambda s: s[1].get('Rate') is not None)\\\n",
    "                            .map(lambda s: (str(s[0][1]), s[1]['Rate'][0][0], s[1]['Rate'][0][1]))\\\n",
    "                            .map(lambda s: (re.sub('e', '0', s[0]), re.sub('e', '0', s[1]), s[2]))\n",
    "training_explicit.take(5)"
   ]
  },
  {
   "cell_type": "code",
   "execution_count": 25,
   "metadata": {
    "collapsed": false
   },
   "outputs": [
    {
     "data": {
      "text/plain": [
       "[(26513925, u'28379'),\n",
       " (15133328, u'26212'),\n",
       " (15133328, u'11822e111'),\n",
       " (15133328, u'23956'),\n",
       " (40492473, u'20731'),\n",
       " (40492473, u'37830'),\n",
       " (53763287, u'19474'),\n",
       " (49436657, u'2296e4'),\n",
       " (49436657, u'2296e5'),\n",
       " (49436657, u'2296e6')]"
      ]
     },
     "execution_count": 25,
     "metadata": {},
     "output_type": "execute_result"
    }
   ],
   "source": [
    "def get_implicit(session):\n",
    "    actions = ['AddToQueue', 'Play', 'WriteReview', 'Rate', 'Itempage']\n",
    "    uid = session[0][1]\n",
    "    res = []\n",
    "    for key in session[1].keys():\n",
    "        if key in actions:\n",
    "            for item in session[1][key]:\n",
    "                res.append((uid, item))\n",
    "    return res\n",
    "\n",
    "training_implicit = sessions.flatMap(get_implicit)\n",
    "training_implicit.take(10)"
   ]
  },
  {
   "cell_type": "code",
   "execution_count": 26,
   "metadata": {
    "collapsed": false
   },
   "outputs": [
    {
     "data": {
      "text/plain": [
       "1182"
      ]
     },
     "execution_count": 26,
     "metadata": {},
     "output_type": "execute_result"
    }
   ],
   "source": [
    "training_explicit_avgs = training_explicit.map(lambda x: x[2]).reduce(lambda x,y: x+y) / training_explicit.count()\n",
    "training_explicit_RMSE = training_explicit.map(lambda x: pow(x[2]-training_explicit_avgs, 2)).reduce(lambda x,y: x+y)\n",
    "training_explicit_RMSE"
   ]
  },
  {
   "cell_type": "code",
   "execution_count": 22,
   "metadata": {
    "collapsed": false
   },
   "outputs": [
    {
     "data": {
      "text/plain": [
       "[((u'3c6472fd-7ddd-415f-b42a-626d92e6214e', 26513925),\n",
       "  {u'Pause': {u'28379'},\n",
       "   u'Play': {u'28379'},\n",
       "   u'Position': {u'28379'},\n",
       "   u'Resume': {u'28379'},\n",
       "   u'Stop': {u'28379'},\n",
       "   u'marker': [0, 4945],\n",
       "   u'popular': [u'33172', u'7097', u'38420', u'32212', u'28379'],\n",
       "   u'recent': [u'2485e9'],\n",
       "   u'recommended': [u'6282', u'22571', u'8276', u'32065', u'2528']}),\n",
       " ((u'21b70caf-a85d-4b9d-87c7-a8a32fa5f7f4', 15133328),\n",
       "  {u'AddToQueue': {u'11822e111', u'23956'},\n",
       "   u'Hover': {u'11822e111', u'23956', u'29358'},\n",
       "   u'Pause': {u'26212'},\n",
       "   u'Play': {u'26212'},\n",
       "   u'marker': [0, 6555],\n",
       "   u'popular': [u'14696', u'28448', u'7347', u'18484', u'9116'],\n",
       "   u'recent': [u'25092'],\n",
       "   u'recommended': [u'37254', u'10694', u'26212', u'34094', u'24821'],\n",
       "   u'results': [u'8565',\n",
       "    u'34980',\n",
       "    u'38947',\n",
       "    u'17411',\n",
       "    u'16819',\n",
       "    u'37938',\n",
       "    u'29358',\n",
       "    u'4026',\n",
       "    u'23956',\n",
       "    u'15774',\n",
       "    u'26237',\n",
       "    u'10917',\n",
       "    u'11822e111',\n",
       "    u'26212',\n",
       "    u'12117',\n",
       "    u'36810e23',\n",
       "    u'14489',\n",
       "    u'16078',\n",
       "    u'6186',\n",
       "    u'13321e89']})]"
      ]
     },
     "execution_count": 22,
     "metadata": {},
     "output_type": "execute_result"
    }
   ],
   "source": [
    "sessions.take(2)"
   ]
  },
  {
   "cell_type": "code",
   "execution_count": 43,
   "metadata": {
    "collapsed": false
   },
   "outputs": [
    {
     "data": {
      "text/plain": [
       "[[u'Play',\n",
       "  u'Pause',\n",
       "  u'Resume',\n",
       "  u'Stop',\n",
       "  u'popular',\n",
       "  u'recommended',\n",
       "  u'marker',\n",
       "  u'Position',\n",
       "  u'recent'],\n",
       " [u'Play',\n",
       "  u'Hover',\n",
       "  u'AddToQueue',\n",
       "  u'results',\n",
       "  u'marker',\n",
       "  u'recommended',\n",
       "  u'Pause',\n",
       "  u'popular',\n",
       "  u'recent']]"
      ]
     },
     "execution_count": 43,
     "metadata": {},
     "output_type": "execute_result"
    }
   ],
   "source": [
    "from pyspark.mllib.feature import HashingTF\n",
    "tf = HashingTF(10000)\n",
    "sk = sessions.map(lambda x: x[1].keys())\n",
    "cnt = sk.map(lambda x: tf.transform(x))\n",
    "sk.take(2)"
   ]
  },
  {
   "cell_type": "code",
   "execution_count": 44,
   "metadata": {
    "collapsed": false
   },
   "outputs": [
    {
     "data": {
      "text/plain": [
       "[SparseVector(10000, {119: 1.0, 153: 1.0, 1731: 1.0, 4130: 1.0, 5042: 1.0, 5260: 1.0, 6904: 1.0, 7400: 1.0, 9951: 1.0}),\n",
       " SparseVector(10000, {1731: 1.0, 2537: 1.0, 3213: 1.0, 4130: 1.0, 5042: 1.0, 6904: 1.0, 6979: 1.0, 7400: 1.0, 9951: 1.0})]"
      ]
     },
     "execution_count": 44,
     "metadata": {},
     "output_type": "execute_result"
    }
   ],
   "source": [
    "cnt.take(2)"
   ]
  },
  {
   "cell_type": "code",
   "execution_count": 45,
   "metadata": {
    "collapsed": false
   },
   "outputs": [
    {
     "data": {
      "text/plain": [
       "[LabeledPoint(5.0, (10000,[119,153,1731,4130,5042,5260,6904,7400,9951],[1.0,1.0,1.0,1.0,1.0,1.0,1.0,1.0,1.0])),\n",
       " LabeledPoint(5.0, (10000,[1731,2537,3213,4130,5042,6904,6979,7400,9951],[1.0,1.0,1.0,1.0,1.0,1.0,1.0,1.0,1.0]))]"
      ]
     },
     "execution_count": 45,
     "metadata": {},
     "output_type": "execute_result"
    }
   ],
   "source": [
    "# integrate into spark to scale up\n",
    "from pyspark.mllib.regression import LabeledPoint\n",
    "lp = cnt.map(lambda x: LabeledPoint(5, x))\n",
    "lp.take(2)"
   ]
  },
  {
   "cell_type": "code",
   "execution_count": null,
   "metadata": {
    "collapsed": true
   },
   "outputs": [],
   "source": []
  }
 ],
 "metadata": {
  "kernelspec": {
   "display_name": "Python 2",
   "language": "python",
   "name": "python2"
  },
  "language_info": {
   "codemirror_mode": {
    "name": "ipython",
    "version": 2
   },
   "file_extension": ".py",
   "mimetype": "text/x-python",
   "name": "python",
   "nbconvert_exporter": "python",
   "pygments_lexer": "ipython2",
   "version": "2.7.11"
  }
 },
 "nbformat": 4,
 "nbformat_minor": 0
}
